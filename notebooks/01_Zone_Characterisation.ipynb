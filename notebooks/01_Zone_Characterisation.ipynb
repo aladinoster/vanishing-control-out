{
 "cells": [
  {
   "cell_type": "markdown",
   "metadata": {
    "papermill": {
     "duration": 0.010484,
     "end_time": "2020-03-25T13:47:00.471952",
     "exception": false,
     "start_time": "2020-03-25T13:47:00.461468",
     "status": "completed"
    },
    "tags": []
   },
   "source": [
    "# Effect of Vanishing Policies in traffic rerouting\n",
    "\n",
    "**Objective**\n",
    "* The objective is to perform an analysis to determine the impact of introducing vanishing policies in specific zones of a city. \n",
    "\n",
    "<img src=\"../images/zones.png\" alt=\"drawing\" width=\"400\"/>\n"
   ]
  },
  {
   "cell_type": "code",
   "execution_count": null,
   "metadata": {
    "papermill": {
     "duration": 0.015775,
     "end_time": "2020-03-25T13:47:00.497225",
     "exception": false,
     "start_time": "2020-03-25T13:47:00.481450",
     "status": "completed"
    },
    "tags": [
     "parameters"
    ]
   },
   "outputs": [],
   "source": [
    "# Parameters\n",
    "ZONE = 'Cpt_5'\n",
    "VANISHING = 0\n",
    "CONTROL_TYPE = 'MANUAL'\n",
    "DISTANCE_CONTROL = 50\n",
    "TRIGGER_TIME = 9000\n",
    "PATH_SYMUVIA = '/Users/andresladino/Documents/01-Code/04-Platforms/dev-symuvia/build/lib/libSymuVia.dylib' "
   ]
  },
  {
   "cell_type": "code",
   "execution_count": null,
   "metadata": {
    "papermill": {
     "duration": 2.722556,
     "end_time": "2020-03-25T13:47:03.253289",
     "exception": false,
     "start_time": "2020-03-25T13:47:00.530733",
     "status": "completed"
    },
    "tags": []
   },
   "outputs": [],
   "source": [
    "import symupy\n",
    "import pandas as pd\n",
    "import numpy as np \n",
    "import os\n",
    "import sys\n",
    "import re\n",
    "from itertools import repeat, chain\n",
    "import ipywidgets as widgets\n",
    "from IPython.display import display\n",
    "import networkx as nx\n",
    "\n",
    "try:\n",
    "    pd.set_option('plotting.backend', 'hvplot')\n",
    "except: \n",
    "    pass\n",
    "print(f\"Backend: {pd.options.plotting.backend}\")\n",
    "\n",
    "from symupy.api import Simulator,Simulation\n",
    "\n",
    "print(f\"Version of symupy: {symupy.__version__}\")\n",
    "\n",
    "packages = ['src']\n",
    "\n",
    "# Adding supplementary functions \n",
    "for pck in packages:\n",
    "    print(f\"Adding folder: {pck}\")\n",
    "    sys.path.append(os.path.join(os.getcwd(),f\"../{pck}\"))\n"
   ]
  },
  {
   "cell_type": "code",
   "execution_count": null,
   "metadata": {
    "papermill": {
     "duration": 0.015319,
     "end_time": "2020-03-25T13:47:03.278889",
     "exception": false,
     "start_time": "2020-03-25T13:47:03.263570",
     "status": "completed"
    },
    "tags": []
   },
   "outputs": [],
   "source": [
    "# Path information\n",
    "\n",
    "PATH_SCENARIO = os.getcwd()+'/../data/scenarios/mesh9x9/net1_nodemand_9zones2.xml' # Github\n",
    "\n",
    "DATA_INPUT = '../data/scenarios/mesh9x9/' # Github"
   ]
  },
  {
   "cell_type": "markdown",
   "metadata": {
    "papermill": {
     "duration": 0.009796,
     "end_time": "2020-03-25T13:47:03.299180",
     "exception": false,
     "start_time": "2020-03-25T13:47:03.289384",
     "status": "completed"
    },
    "tags": []
   },
   "source": [
    "#### File reading\n",
    "\n",
    "* Read zone links and construct a list of strings by containing links per zone `zone2_Cpt_*.csv`\n",
    "* Read demand file `extnewtripset.csv`"
   ]
  },
  {
   "cell_type": "code",
   "execution_count": null,
   "metadata": {
    "papermill": {
     "duration": 0.042322,
     "end_time": "2020-03-25T13:47:03.351222",
     "exception": false,
     "start_time": "2020-03-25T13:47:03.308900",
     "status": "completed"
    },
    "tags": []
   },
   "outputs": [],
   "source": [
    "# Zone information\n",
    "\n",
    "files = [f for f in os.listdir(DATA_INPUT) if re.search(r'\\d.csv$', f)]\n",
    "\n",
    "# Data management\n",
    "df_zones = [] \n",
    "\n",
    "# Communicate to Symuvia\n",
    "dct_ctrl = {}\n",
    "\n",
    "# Reading all files\n",
    "for file in files: \n",
    "    key = file.split(\"_\")[-1][0] # Zone number\n",
    "    df_zone = pd.read_csv(DATA_INPUT+file, header = None, names = [\"Link\"])\n",
    "    df_zone[\"Zone\"] = key\n",
    "    df_zones.append(df_zone)\n",
    "    ls_links = ' '.join(df_zone[\"Link\"].to_list())\n",
    "    dct_ctrl[key] = f\"'{ls_links}'\" # This special to have \"'x'\" instead of 'x'\n",
    "\n",
    "# All zone data is here\n",
    "df_zones = pd.concat(df_zones)\n",
    "# df_zones.head()"
   ]
  },
  {
   "cell_type": "code",
   "execution_count": null,
   "metadata": {
    "papermill": {
     "duration": 0.130025,
     "end_time": "2020-03-25T13:47:03.490442",
     "exception": false,
     "start_time": "2020-03-25T13:47:03.360417",
     "status": "completed"
    },
    "tags": []
   },
   "outputs": [],
   "source": [
    "# Demand information\n",
    "dfile = \"extnewtripset.csv\"\n",
    "demand = pd.read_csv(DATA_INPUT+dfile,sep=\";\") \n",
    "demand.rename({'Unnamed: 0':'vehid'}, axis=1, inplace=True) # Rename column\n",
    "# demand.head()"
   ]
  },
  {
   "cell_type": "code",
   "execution_count": null,
   "metadata": {
    "papermill": {
     "duration": 0.049728,
     "end_time": "2020-03-25T13:47:03.549456",
     "exception": false,
     "start_time": "2020-03-25T13:47:03.499728",
     "status": "completed"
    },
    "tags": []
   },
   "outputs": [],
   "source": [
    "# Some idea of the flow\n",
    "TIME_MAX = demand.creation.max()\n",
    "TIME_MIN = demand.creation.min()\n",
    "DELTA_TIME = TIME_MAX - TIME_MIN\n",
    "interval_cut = pd.cut(demand.creation,int(DELTA_TIME/60))\n",
    "flow = demand.groupby(interval_cut).count()\n",
    "flow['stamp'] = np.arange(len(flow))\n",
    "# flow.plot(x='stamp',y='creation',grid = True, title = 'Aggregated Demand')"
   ]
  },
  {
   "cell_type": "code",
   "execution_count": null,
   "metadata": {
    "papermill": {
     "duration": 0.156159,
     "end_time": "2020-03-25T13:47:03.713883",
     "exception": false,
     "start_time": "2020-03-25T13:47:03.557724",
     "status": "completed"
    },
    "tags": []
   },
   "outputs": [],
   "source": [
    "# Vehicle creation\n",
    "numveh = demand.groupby(interval_cut).max()\n",
    "numveh['stamp'] = np.arange(len(numveh))\n",
    "# numveh.plot(x='stamp',y='creation',grid = True, title = 'Aggregated Demand')"
   ]
  },
  {
   "cell_type": "markdown",
   "metadata": {
    "papermill": {
     "duration": 0.008663,
     "end_time": "2020-03-25T13:47:03.731365",
     "exception": false,
     "start_time": "2020-03-25T13:47:03.722702",
     "status": "completed"
    },
    "tags": []
   },
   "source": [
    "#### Recreation of a demand\n",
    "\n",
    "As it can be observed the demand profile here assumed is only valid for the first 150 minutes. In order to reach equilibria we propose to sample vehicles uniformly within this interval to create the amount of vehicles for the following 100 seconds. "
   ]
  },
  {
   "cell_type": "code",
   "execution_count": null,
   "metadata": {
    "papermill": {
     "duration": 0.084061,
     "end_time": "2020-03-25T13:47:03.823397",
     "exception": false,
     "start_time": "2020-03-25T13:47:03.739336",
     "status": "completed"
    },
    "tags": []
   },
   "outputs": [],
   "source": [
    "TIME_LIMIT = 150\n",
    "constant_demand = demand.query(f\"creation<={TIME_LIMIT * 60}\")\n",
    "id_new_veh = constant_demand.vehid.max()\n",
    "\n",
    "# Creating new demand \n",
    "extra_demand = constant_demand.copy()\n",
    "# Shifting new vehicles instant\n",
    "extra_demand['creation'] = extra_demand['creation'].apply(lambda x: x + TIME_LIMIT * 60)\n",
    "extra_demand['vehid'] = extra_demand['vehid'].apply(lambda x: x + id_new_veh)\n",
    "# Shifting vehicle instant creation \n",
    "extra_demand.head()\n",
    "\n",
    "TIME_MAX = extra_demand.creation.max()\n",
    "TIME_MIN = extra_demand.creation.min()\n",
    "DELTA_TIME = TIME_MAX - TIME_MIN\n",
    "\n",
    "interal_cut = pd.cut(extra_demand.creation, bins = int(DELTA_TIME/60))\n",
    "\n",
    "extra_flow = extra_demand.groupby(interal_cut).count()\n",
    "extra_flow['stamp'] = np.arange(len(extra_flow))\n",
    "# extra_flow.plot(x='stamp',y='creation',grid = True, title = 'Extended Demand')"
   ]
  },
  {
   "cell_type": "code",
   "execution_count": null,
   "metadata": {
    "papermill": {
     "duration": 0.073116,
     "end_time": "2020-03-25T13:47:03.905699",
     "exception": false,
     "start_time": "2020-03-25T13:47:03.832583",
     "status": "completed"
    },
    "tags": []
   },
   "outputs": [],
   "source": [
    "demand = pd.concat([constant_demand, extra_demand])\n",
    "\n",
    "MAX_TIME = demand.creation.max()\n",
    "\n",
    "flow = demand.groupby(pd.cut(demand.creation,int(demand.creation.max()/60))).count()\n",
    "flow['stamp'] = np.arange(len(flow))\n",
    "# flow.plot(x='stamp',y='creation',grid = True, title = 'Aggregated Demand')\n",
    "\n"
   ]
  },
  {
   "cell_type": "markdown",
   "metadata": {
    "papermill": {
     "duration": 0.009503,
     "end_time": "2020-03-25T13:47:03.924464",
     "exception": false,
     "start_time": "2020-03-25T13:47:03.914961",
     "status": "completed"
    },
    "tags": []
   },
   "source": [
    "### Launch simulation \n",
    "\n",
    "The objective of the following part is to perform a step by step simulation in multiple scenarios. \n",
    "\n",
    "#### Scenario generation \n",
    "\n",
    "This instantiate and generate the scenario for the simulation "
   ]
  },
  {
   "cell_type": "code",
   "execution_count": null,
   "metadata": {
    "papermill": {
     "duration": 0.04653,
     "end_time": "2020-03-25T13:47:03.980034",
     "exception": false,
     "start_time": "2020-03-25T13:47:03.933504",
     "status": "completed"
    },
    "tags": []
   },
   "outputs": [],
   "source": [
    "# Simulation creation \n",
    "simulator = Simulator(PATH_SYMUVIA)\n",
    "scenario = Simulation(PATH_SCENARIO)\n",
    "\n",
    "# Register simulation\n",
    "simulator.register_simulation(scenario)\n",
    "\n",
    "# Sensors\n",
    "sensors = list(scenario.get_mfd_sensor_names())\n",
    "sensors.pop(); # takes out Global"
   ]
  },
  {
   "cell_type": "markdown",
   "metadata": {
    "papermill": {
     "duration": 0.009033,
     "end_time": "2020-03-25T13:47:03.998430",
     "exception": false,
     "start_time": "2020-03-25T13:47:03.989397",
     "status": "completed"
    },
    "tags": []
   },
   "source": [
    "#### Supplementary functions\n",
    "\n",
    "Define all supplementary functions required for the control "
   ]
  },
  {
   "cell_type": "code",
   "execution_count": null,
   "metadata": {
    "papermill": {
     "duration": 0.021875,
     "end_time": "2020-03-25T13:47:04.030215",
     "exception": false,
     "start_time": "2020-03-25T13:47:04.008340",
     "status": "completed"
    },
    "tags": []
   },
   "outputs": [],
   "source": [
    "from data.transformer import extract_veh_data\n",
    "from algorithms.control import define_grid_graph, compute_vanishing_control\n",
    "\n",
    "# Progress bar \n",
    "max_count = 100\n",
    "\n",
    "# progress =  widgets.IntProgress(\n",
    "#     value=0,\n",
    "#     min=0,\n",
    "#     max=max_count,\n",
    "#     step=1,\n",
    "#     description='Progress:',\n",
    "#     bar_style='success', # 'success', 'info', 'warning', 'danger' or ''\n",
    "#     orientation='horizontal'\n",
    "# ) # instantiate the bar  \n",
    "\n",
    "# Create cooperative graph \n",
    "G = define_grid_graph(3,3)\n",
    "# nx.draw(G, node_color=\"#A0CBE2\", with_labels=True) # Plot\n"
   ]
  },
  {
   "cell_type": "markdown",
   "metadata": {
    "papermill": {
     "duration": 0.008046,
     "end_time": "2020-03-25T13:47:04.047232",
     "exception": false,
     "start_time": "2020-03-25T13:47:04.039186",
     "status": "completed"
    },
    "tags": []
   },
   "source": [
    "#### Control policy\n",
    "\n",
    "Here we set the control policy "
   ]
  },
  {
   "cell_type": "code",
   "execution_count": null,
   "metadata": {
    "papermill": {
     "duration": 0.014512,
     "end_time": "2020-03-25T13:47:04.069953",
     "exception": false,
     "start_time": "2020-03-25T13:47:04.055441",
     "status": "completed"
    },
    "tags": []
   },
   "outputs": [],
   "source": [
    "# Control\n",
    "\n",
    "state_A = dict(zip(sensors, repeat(0)))\n",
    "\n",
    "state_B = dict(zip(sensors, repeat(0)))\n",
    "state_B[ZONE] = VANISHING\n",
    "    \n",
    "if CONTROL_TYPE == \"MANUAL\":\n",
    "    compute_control = lambda time, threshold, speed, graph: state_B if time>threshold else state_A \n",
    "elif CONTROL_TYPE == \"AUTO\": \n",
    "    compute_control = compute_vanishing_control\n",
    "else:\n",
    "    compute_control = lambda time, threshold, speed, graph: state_A\n",
    "\n",
    "    \n",
    "# Distance control action\n",
    "dstcontrol = dict(zip(sensors, repeat(DISTANCE_CONTROL)))"
   ]
  },
  {
   "cell_type": "markdown",
   "metadata": {
    "papermill": {
     "duration": 0.007801,
     "end_time": "2020-03-25T13:47:04.085824",
     "exception": false,
     "start_time": "2020-03-25T13:47:04.078023",
     "status": "completed"
    },
    "tags": []
   },
   "source": [
    "#### Runtime simulations\n",
    "\n",
    "The following launches the runtime simulations."
   ]
  },
  {
   "cell_type": "code",
   "execution_count": null,
   "metadata": {
    "papermill": {
     "duration": 0.017134,
     "end_time": "2020-03-25T13:47:04.111659",
     "exception": true,
     "start_time": "2020-03-25T13:47:04.094525",
     "status": "failed"
    },
    "tags": []
   },
   "outputs": [],
   "source": [
    "# Runtime\n",
    "TTT = []\n",
    "TTD = []\n",
    "SPD = []\n",
    "CTR = []\n",
    "\n",
    "# Simulation runtime\n",
    "# display(progress) # display the bar\n",
    "\n",
    "# Control time\n",
    "control_interval = 180 # seconds\n",
    "\n",
    "\n",
    "vehids = []\n",
    "cum_veh = []\n",
    "\n",
    "with simulator as s:\n",
    "#     progress.value = 0\n",
    "    while s.do_next:\n",
    "        s.run_step()\n",
    "\n",
    "        # Vehicle creation on demand\n",
    "        if s.simulationstep > 0:\n",
    "            for veh_data in extract_veh_data(demand, s.simulationstep):\n",
    "                vehid = s.create_vehicle_with_route(*veh_data)\n",
    "                vehids.append(vehid)\n",
    "\n",
    "        if s.simulationstep == control_interval:\n",
    "            control_rate = state_A\n",
    "            CTR.append(control_rate)\n",
    "            s.add_control_probability_zone_mfd(control_rate, dstcontrol)\n",
    "            \n",
    "        if not s.simulationstep % control_interval and s.simulationstep >= control_interval:\n",
    "#             progress.value += 1\n",
    "            new_vehs = [v for v in vehids if v not in cum_veh and v > 0]\n",
    "            fail_vehs = [v for v in vehids if v not in cum_veh and v < 0]\n",
    "            print(f\"Time: {s.simulationstep},New vehs: {len(new_vehs)}, Failed vehs:{len(fail_vehs)}, Total vehs:{len(vehids)}\")\n",
    "            \n",
    "            # Store new vehicles \n",
    "            cum_veh = [v for v in vehids]\n",
    "\n",
    "            TTD.append(dict(zip(sensors, s.get_total_travel_distance())))\n",
    "            TTT.append(dict(zip(sensors, s.get_total_travel_time())))\n",
    "            SPD.append(dict(zip(sensors, s.get_mfd_speed())))\n",
    "\n",
    "            control_rate = compute_control(s.simulationstep, TRIGGER_TIME, SPD[-1], G)\n",
    "            CTR.append(control_rate)\n",
    "            \n",
    "            s.modify_control_probability_zone_mfd(control_rate)\n",
    "\n",
    "        "
   ]
  },
  {
   "cell_type": "code",
   "execution_count": null,
   "metadata": {
    "papermill": {
     "duration": null,
     "end_time": null,
     "exception": null,
     "start_time": null,
     "status": "pending"
    },
    "tags": []
   },
   "outputs": [],
   "source": [
    "# Save files \n",
    "output_dir = os.getcwd()+f\"/../data/results/{ZONE}_{CONTROL_TYPE}_{int(VANISHING*100)}/\"\n",
    "output_dir"
   ]
  },
  {
   "cell_type": "code",
   "execution_count": null,
   "metadata": {
    "papermill": {
     "duration": null,
     "end_time": null,
     "exception": null,
     "start_time": null,
     "status": "pending"
    },
    "tags": []
   },
   "outputs": [],
   "source": [
    "!mkdir -p $output_dir"
   ]
  },
  {
   "cell_type": "code",
   "execution_count": null,
   "metadata": {
    "papermill": {
     "duration": null,
     "end_time": null,
     "exception": null,
     "start_time": null,
     "status": "pending"
    },
    "tags": []
   },
   "outputs": [],
   "source": [
    "# Results saving\n",
    "\n",
    "# DataFrames\n",
    "ttd = pd.DataFrame(TTD)\n",
    "ttt = pd.DataFrame(TTT)\n",
    "spd = pd.DataFrame(SPD)\n",
    "ctr = pd.DataFrame(CTR)\n",
    "\n",
    "ttt.to_csv(output_dir + 'ttt.csv',index=False)\n",
    "ttd.to_csv(output_dir + 'ttd.csv',index=False)\n",
    "spd.to_csv(output_dir + 'spd.csv',index=False)\n",
    "ctr.to_csv(output_dir + 'ctr.csv',index=False)"
   ]
  },
  {
   "cell_type": "markdown",
   "metadata": {
    "papermill": {
     "duration": null,
     "end_time": null,
     "exception": null,
     "start_time": null,
     "status": "pending"
    },
    "tags": []
   },
   "source": [
    "Andres L."
   ]
  }
 ],
 "metadata": {
  "kernelspec": {
   "display_name": "ISTTT24",
   "language": "python",
   "name": "isttt24"
  },
  "language_info": {
   "codemirror_mode": {
    "name": "ipython",
    "version": 3
   },
   "file_extension": ".py",
   "mimetype": "text/x-python",
   "name": "python",
   "nbconvert_exporter": "python",
   "pygments_lexer": "ipython3",
   "version": "3.8.1"
  },
  "papermill": {
   "duration": 4.660378,
   "end_time": "2020-03-25T13:47:04.214824",
   "environment_variables": {},
   "exception": true,
   "input_path": "01_Zone_Characterisation.ipynb",
   "output_path": "01_Zone_Characterisation.ipynb",
   "parameters": {
    "CONTROL_TYPE": "MANUAL",
    "DISTANCE_CONTROL": 50,
    "PATH_SYMUVIA": "/Users/andresladino/Documents/01-Code/04-Platforms/dev-symuvia/build/lib/libSymuVia.dylib",
    "TRIGGER_TIME": 9000,
    "VANISHING": 0,
    "ZONE": "Cpt_5"
   },
   "start_time": "2020-03-25T13:46:59.554446",
   "version": "2.0.0"
  }
 },
 "nbformat": 4,
 "nbformat_minor": 4
}
