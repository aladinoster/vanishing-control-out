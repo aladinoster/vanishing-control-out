{
 "cells": [
  {
   "cell_type": "markdown",
   "metadata": {},
   "source": [
    "# Data Analysis\n",
    "\n",
    "This are charts to illustrate the behavior of different curves under the effect of variation of vanishing policies. "
   ]
  },
  {
   "cell_type": "code",
   "execution_count": null,
   "metadata": {},
   "outputs": [],
   "source": [
    "import symupy\n",
    "import pandas as pd\n",
    "import numpy as np \n",
    "import os\n",
    "import sys\n",
    "import re\n",
    "from itertools import repeat, chain\n",
    "import ipywidgets as widgets\n",
    "from IPython.display import display\n",
    "import networkx as nx\n",
    "import matplotlib.pyplot as plt \n",
    "\n",
    "# try:\n",
    "#     pd.set_option('plotting.backend', 'hvplot')\n",
    "# except: \n",
    "#     pass\n",
    "print(f\"Backend: {pd.options.plotting.backend}\")\n",
    "\n",
    "from symupy.api import Simulator,Simulation\n",
    "\n",
    "print(f\"Version of symupy: {symupy.__version__}\")\n",
    "\n",
    "packages = ['src', 'data/results/']\n",
    "\n",
    "# Adding supplementary functions \n",
    "for pck in packages:\n",
    "    print(f\"Adding folder: {pck}\")\n",
    "    sys.path.append(os.path.join(os.getcwd(),f\"../{pck}\"))\n"
   ]
  },
  {
   "cell_type": "code",
   "execution_count": null,
   "metadata": {},
   "outputs": [],
   "source": [
    "# ==============\n",
    "# Widgets\n",
    "# ==============\n",
    "\n",
    "zones_cpt = [f'Cpt_{x}' for x in list(np.arange(0,9)+1)]\n",
    "\n",
    "zonewdgt = widgets.RadioButtons(\n",
    "    options = zones_cpt,\n",
    "    value=zones_cpt[4], # Defaults to 'pineapple'\n",
    "#    layout={'width': 'max-content'}, # If the items' names are long\n",
    "    description='Zone:',\n",
    "    disabled=False\n",
    ")\n",
    "prc_sel = widgets.SelectMultiple(\n",
    "    options=['All',0,10,20,30,40,50,70],\n",
    "    value=['All'],\n",
    "    #rows=10,\n",
    "    description='Vanishing Policy',\n",
    "    disabled=False\n",
    ")"
   ]
  },
  {
   "cell_type": "code",
   "execution_count": null,
   "metadata": {},
   "outputs": [],
   "source": [
    "# ==============\n",
    "# Plot functions \n",
    "# ==============\n",
    "\n",
    "def load_data(zone = 'Cpt_5'):\n",
    "    \"\"\"Reading and loading files\"\"\"\n",
    "    \n",
    "    output_dir = os.listdir('../data/results')\n",
    "    output_dir = sorted(output_dir) # Picking good cases\n",
    "    output_dir = [x for x in output_dir if x.startswith(zone)]\n",
    "\n",
    "    full_ttt = []\n",
    "    full_ttd = []\n",
    "    full_spd = []\n",
    "    full_ctr = []\n",
    "    for case in output_dir:\n",
    "        load_dir = os.getcwd()+'/../data/results/'+ case+'/'\n",
    "        \n",
    "        filettt = load_dir +'ttt.csv'\n",
    "        filettd = load_dir +'ttd.csv'\n",
    "        filespd = load_dir +'spd.csv'\n",
    "        filectr = load_dir +'ctr.csv'\n",
    "        \n",
    "        ttt = pd.read_csv(filettt)        \n",
    "        ttd = pd.read_csv(filettd)\n",
    "        spd = pd.read_csv(filespd)\n",
    "        ctr = pd.read_csv(filectr)\n",
    "        \n",
    "        full_ttt.append(ttt)\n",
    "        full_ttd.append(ttd)\n",
    "        full_spd.append(spd)\n",
    "        full_ctr.append(ctr)        \n",
    "\n",
    "    key_prc = [0,10,20,30,40,50,70]\n",
    "    dfttt = pd.concat(full_ttt, keys = key_prc, axis = 0)\n",
    "    dfttd = pd.concat(full_ttd, keys = key_prc, axis = 0)\n",
    "    dfspd = pd.concat(full_spd, keys = key_prc, axis = 0)\n",
    "    dfctr = pd.concat(full_ctr, keys = key_prc, axis = 0)\n",
    "    return dfttt,dfttd, dfspd,dfctr \n",
    "\n",
    "def filter_data(var, zone='Cpt_5'):\n",
    "    return var.unstack(level=0)[zone]\n",
    "\n",
    "data = load_data() \n",
    "\n",
    "def plot_data(zone='Cpt_5',prc = None):\n",
    "    data_flt = [filter_data(var) for var in data]        \n",
    "    df=pd.concat(data_flt,keys = ['TTT','TTD','SPD','CTR'])\n",
    "\n",
    "    print(prc,zone)\n",
    "    \n",
    "    if prc[0]==\"All\" or prc is None:\n",
    "        df = df.reset_index(level=0);\n",
    "    else:\n",
    "        df = df.loc[:,prc] \n",
    "        df = df.reset_index(level=0)        \n",
    "  \n",
    "    for title, group in df.groupby('level_0'):\n",
    "        group.plot(title=title, grid = True, figsize=(15,5))\n",
    "\n",
    "   "
   ]
  },
  {
   "cell_type": "code",
   "execution_count": null,
   "metadata": {},
   "outputs": [],
   "source": [
    "data_view = widgets.interactive(plot_data,zone=zonewdgt, prc=prc_sel)\n",
    "zonewdgt.observe(lambda x: data_view.update(), 'value')\n",
    "display(data_view)"
   ]
  },
  {
   "cell_type": "markdown",
   "metadata": {},
   "source": [
    "## Routing Data \n",
    "\n",
    "We analize here the number of reroutings per case "
   ]
  },
  {
   "cell_type": "code",
   "execution_count": null,
   "metadata": {},
   "outputs": [],
   "source": [
    "## Rerouting data \n",
    "\n",
    "def load_data_routing(zone='Cpt_5'):\n",
    "    output_dir = os.listdir('../data/results')\n",
    "    output_dir = sorted(output_dir) # Picking good cases\n",
    "    output_dir = [x for x in output_dir if x.startswith(zone)]\n",
    "\n",
    "    lst_route = []\n",
    "    for case in output_dir:\n",
    "        load_dir = os.getcwd()+'/../data/results/'+ case+'/OUT/defaultOut_ctrlzonedata_.csv'\n",
    "        routing = pd.read_csv(load_dir)\n",
    "        lst_route.append(routing)\n",
    "    return lst_route\n",
    "\n",
    "lst_route = load_data_routing()\n",
    "key_prc = [0,10,20,30,40,50,70]\n",
    "dfrt = pd.concat(lst_route, keys= key_prc,axis=0)\n",
    "dfrt = dfrt.reset_index(level=0)\n",
    "dfrt.rename(columns={'level_0': 'Vanishing %'}, inplace=True)\n",
    "dfrt.groupby('Vanishing %').sum()['activation'].plot(kind='bar',title='Number of Activations', grid = True, figsize = (7,5));"
   ]
  },
  {
   "cell_type": "markdown",
   "metadata": {},
   "source": [
    "Number of activations distributed per zone:"
   ]
  },
  {
   "cell_type": "code",
   "execution_count": null,
   "metadata": {},
   "outputs": [],
   "source": [
    "dfgrp = dfrt.groupby(['zone','Vanishing %',]).sum()\n",
    "dfgrp['activation'].unstack(level='zone')"
   ]
  },
  {
   "cell_type": "code",
   "execution_count": null,
   "metadata": {},
   "outputs": [],
   "source": [
    "delay = dfrt.groupby(['Vanishing %','zone','veh']).agg({'time': lambda x: x.max() - x.min()})"
   ]
  },
  {
   "cell_type": "code",
   "execution_count": null,
   "metadata": {},
   "outputs": [],
   "source": [
    "delay_plot = delay.reset_index(level='veh').groupby(['Vanishing %','zone']).agg({'time':['mean','std']})"
   ]
  },
  {
   "cell_type": "markdown",
   "metadata": {},
   "source": [
    "#### Mean average activation deactivation time difference "
   ]
  },
  {
   "cell_type": "code",
   "execution_count": null,
   "metadata": {},
   "outputs": [],
   "source": [
    "delay_plot.unstack(level='zone')[('time','mean')].plot(kind='bar', figsize= (15,5), grid=True);"
   ]
  },
  {
   "cell_type": "markdown",
   "metadata": {},
   "source": [
    "#### Standard deviation activation dactivation time difference"
   ]
  },
  {
   "cell_type": "code",
   "execution_count": null,
   "metadata": {},
   "outputs": [],
   "source": [
    "delay_plot.unstack(level='zone')[('time','std')].plot(kind='bar' , figsize= (15,5), grid=True);"
   ]
  },
  {
   "cell_type": "markdown",
   "metadata": {},
   "source": [
    "#### Zone 5: Time difference between activation and desactivation"
   ]
  },
  {
   "cell_type": "code",
   "execution_count": null,
   "metadata": {},
   "outputs": [],
   "source": [
    "# ==============\n",
    "# Widgets\n",
    "# ==============\n",
    "\n",
    "zone2wdgt = widgets.RadioButtons(\n",
    "    options = [331,332,333,334,335,336,337,338,339],\n",
    "    value= 335, # Defaults to 'pineapple'\n",
    "#    layout={'width': 'max-content'}, # If the items' names are long\n",
    "    description='Zone:',\n",
    "    disabled=False\n",
    ")\n",
    "\n",
    "prc2wdgt = widgets.RadioButtons(\n",
    "    options = [0,10,20,30,40,50,70],\n",
    "    value=20, # Defaults to 'pineapple'\n",
    "#    layout={'width': 'max-content'}, # If the items' names are long\n",
    "    description='Zone:',\n",
    "    disabled=False\n",
    ")\n",
    "\n",
    "# ==============\n",
    "# Plot functions \n",
    "# ==============\n",
    "\n",
    "def plot_time_activation(prc=10,zone=335):\n",
    "    ax = delay.loc[(prc,zone ,slice(None)),:].reset_index(level='veh')['time'].plot(kind='hist',bins = 40, density=True, grid = True, figsize= (15,5), title = f\"Distribution for {prc} % in zone {zone}\");\n",
    "    ax.set_xlabel(\"Time between activation deactivation\");\n",
    "    \n"
   ]
  },
  {
   "cell_type": "code",
   "execution_count": null,
   "metadata": {},
   "outputs": [],
   "source": [
    "data2_view = widgets.interactive(plot_time_activation,zone=zone2wdgt, prc=prc2wdgt)\n",
    "zone2wdgt.observe(lambda x: data2_view.update(), 'value')\n",
    "prc2wdgt.observe(lambda x: data2_view.update(), 'value')\n",
    "display(data2_view)"
   ]
  },
  {
   "cell_type": "markdown",
   "metadata": {},
   "source": [
    "### Proposed control algorithm \n",
    "\n",
    "For the controlled tests the following are two proposition under tests: \n",
    "\n",
    "Consider the following model where $x_i$ represents the state of a single region, in this case the aggregated speed of a region. Let's supose a model where the change in speed can be altered by a vanishing control given in the form of $u_i$ for a specific region as. The continuous and discrete counter parts of this model are represented as: \n",
    "\n",
    "$$\n",
    "\\dot{x} = u \\rightarrow x(k+1) = x(k) + \\varepsilon u(k)\n",
    "$$\n",
    "\n",
    "Consider now that the region belongs to a network of agents where the edges can be traced to ***adjacent physical*** meaning adjacent physical regions. In this sense a network of agents can be created via a simple undirected graph such as: "
   ]
  },
  {
   "cell_type": "code",
   "execution_count": null,
   "metadata": {},
   "outputs": [],
   "source": [
    "from algorithms.control import define_grid_graph\n",
    "G = define_grid_graph(3, 3)\n",
    "nx.draw(G, node_color=\"#A0CBE2\", with_labels=True)\n",
    "color_map = []\n",
    "for node in G:\n",
    "    if node in  nx.neighbors(G,'Cpt_5') or node=='Cpt_5':\n",
    "        color_map.append('Blue')\n",
    "    else:\n",
    "        color_map.append(\"#A0CBE2\")"
   ]
  },
  {
   "cell_type": "markdown",
   "metadata": {},
   "source": [
    "A define set of neighbors for the zone 5 would be in this case for example "
   ]
  },
  {
   "cell_type": "code",
   "execution_count": null,
   "metadata": {},
   "outputs": [],
   "source": [
    "nx.draw(G, node_color=color_map, with_labels=True)"
   ]
  },
  {
   "cell_type": "markdown",
   "metadata": {},
   "source": [
    "One **static control** under test is the following:\n",
    "\n",
    "Let consider a regulator for a single region as a proportion of the error between the current state and the desired state: \n",
    "\n",
    "$$\n",
    "r(k) =  k_i \\left(\\frac{\\bar{x}_i-x_i(k)}{\\bar{x}_i}\\right)\n",
    "$$\n",
    "\n",
    "In this case, the vanishing policy will increase with respect to the error in a proportional way determined by $k_i$. It is already known that the vanishing policy should not act in the free-flow region, therefore we limit its action by introducing a piecewise behavior \n",
    "\n",
    "$$\n",
    "r(k) =  k_i \\min\\left(\\frac{\\bar{x}_i-x_i(k)}{\\bar{x}_i},0\\right)\n",
    "$$\n",
    "\n",
    "The principle is the same as an activation function of a specific neural network. Although up to the moment it sounds a reasonable strategy the idea just considers the fact that information is locally acting. \n",
    "\n",
    "#### Cooperation effect \n",
    "\n",
    "The cooperation effect proposed for this approach is to consider neighbors local controls at current time instant in order to contribute to the current policy. Let consider an agent $i$ with a and its set of agents contained in a set $\\mathcal{N}_i$. \n",
    "\n",
    "The proposed control law consists on considering this individual contribution and add possible effect of differences among normalized states, via an instantaneous proportional - integral action in this way:\n",
    "\n",
    "Let's introduce the effect of normalization via $z_i = \\frac{x_i}{\\bar{x}_i}$\n",
    "\n",
    "***Proportional version***\n",
    "$$\n",
    "u_i(k) =  k_j \\min\\left(1-z_i(k),0\\right)+ \\alpha(k) \\sum_{j \\in \\mathcal{N}_i} \\left(z_i(k)-z_j(k)\\right)   ,\\quad 0<k_i\\leq 1\n",
    "$$\n",
    "\n",
    "***Proportional-integral variation***\n",
    "$$\n",
    "u_i(k) =  k_j \\min\\left(1-z_i(k),0\\right)+  \\sum_{j \\in \\mathcal{N}_i}  \\left( \\alpha(k) \\left(z_i(k) - z_j(k)\\right) +  \\beta(k)\\sum_{\\kappa=0}^{k} \\left(z_i(k)-z_j(k)\\right) \\right)  ,\\quad 0<k_i\\leq 1\n",
    "$$\n",
    "\n",
    "#### Advantages\n",
    "\n",
    "* Self control for the region \n",
    "* Normalization for the computation of the vanishing policy \n",
    "* Cooperation is introduced via diferences of normalized states \n",
    "* Depends on calibration of values $\\bar{x}_i$\n",
    "\n",
    "#### Disadvantages \n",
    "\n",
    "* The protocol can be instanteneous for the moment for simplicity \n",
    "* Tuning of $\\alpha$ can be done on line but assumes another conditions \n",
    "* The control does not acknowledge any information on the demand"
   ]
  },
  {
   "cell_type": "markdown",
   "metadata": {},
   "source": [
    "Andres L."
   ]
  }
 ],
 "metadata": {
  "kernelspec": {
   "display_name": "ISTTT24",
   "language": "python",
   "name": "isttt24"
  },
  "language_info": {
   "codemirror_mode": {
    "name": "ipython",
    "version": 3
   },
   "file_extension": ".py",
   "mimetype": "text/x-python",
   "name": "python",
   "nbconvert_exporter": "python",
   "pygments_lexer": "ipython3",
   "version": "3.8.1"
  }
 },
 "nbformat": 4,
 "nbformat_minor": 4
}
