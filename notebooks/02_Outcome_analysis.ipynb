{
 "cells": [
  {
   "cell_type": "markdown",
   "metadata": {},
   "source": [
    "# Data Analysis\n",
    "\n",
    "This are charts to illustrate the behavior of different curves under the effect of variation of vanishing policies. "
   ]
  },
  {
   "cell_type": "code",
   "execution_count": null,
   "metadata": {},
   "outputs": [],
   "source": [
    "import symupy\n",
    "import pandas as pd\n",
    "import numpy as np \n",
    "import os\n",
    "import sys\n",
    "import re\n",
    "from itertools import repeat, chain\n",
    "import ipywidgets as widgets\n",
    "from IPython.display import display\n",
    "import networkx as nx\n",
    "import matplotlib.pyplot as plt \n",
    "\n",
    "# try:\n",
    "#     pd.set_option('plotting.backend', 'hvplot')\n",
    "# except: \n",
    "#     pass\n",
    "print(f\"Backend: {pd.options.plotting.backend}\")\n",
    "\n",
    "from symupy.api import Simulator,Simulation\n",
    "\n",
    "print(f\"Version of symupy: {symupy.__version__}\")\n",
    "\n",
    "packages = ['src', 'data/results/']\n",
    "\n",
    "# Adding supplementary functions \n",
    "for pck in packages:\n",
    "    print(f\"Adding folder: {pck}\")\n",
    "    sys.path.append(os.path.join(os.getcwd(),f\"../{pck}\"))\n"
   ]
  },
  {
   "cell_type": "code",
   "execution_count": null,
   "metadata": {},
   "outputs": [],
   "source": [
    "# ==============\n",
    "# Widgets\n",
    "# ==============\n",
    "\n",
    "zones_cpt = [f'Cpt_{x}' for x in list(np.arange(0,9)+1)]\n",
    "\n",
    "zonewdgt = widgets.RadioButtons(\n",
    "    options = zones_cpt,\n",
    "    value=zones_cpt[4], # Defaults to 'pineapple'\n",
    "#    layout={'width': 'max-content'}, # If the items' names are long\n",
    "    description='Zone:',\n",
    "    disabled=False\n",
    ")\n",
    "prc_sel = widgets.SelectMultiple(\n",
    "    options=['All',0,10,20,30,40,50,70],\n",
    "    value=['All'],\n",
    "    #rows=10,\n",
    "    description='Vanishing Policy',\n",
    "    disabled=False\n",
    ")"
   ]
  },
  {
   "cell_type": "code",
   "execution_count": null,
   "metadata": {},
   "outputs": [],
   "source": [
    "# ==============\n",
    "# Plot functions \n",
    "# ==============\n",
    "\n",
    "def load_data(zone = 'Cpt_5'):\n",
    "    \"\"\"Reading and loading files\"\"\"\n",
    "    \n",
    "    output_dir = os.listdir('../data/results')\n",
    "    output_dir = sorted(output_dir) # Picking good cases\n",
    "    output_dir = [x for x in output_dir if x.startswith(zone)]\n",
    "\n",
    "    full_ttt = []\n",
    "    full_ttd = []\n",
    "    full_spd = []\n",
    "    full_ctr = []\n",
    "    for case in output_dir:\n",
    "        load_dir = os.getcwd()+'/../data/results/'+ case+'/'\n",
    "        \n",
    "        filettt = load_dir +'ttt.csv'\n",
    "        filettd = load_dir +'ttd.csv'\n",
    "        filespd = load_dir +'spd.csv'\n",
    "        filectr = load_dir +'ctr.csv'\n",
    "        \n",
    "        ttt = pd.read_csv(filettt)        \n",
    "        ttd = pd.read_csv(filettd)\n",
    "        spd = pd.read_csv(filespd)\n",
    "        ctr = pd.read_csv(filectr)\n",
    "        \n",
    "        full_ttt.append(ttt)\n",
    "        full_ttd.append(ttd)\n",
    "        full_spd.append(spd)\n",
    "        full_ctr.append(ctr)        \n",
    "\n",
    "    key_prc = [0,10,20,30,40,50,70]\n",
    "    dfttt = pd.concat(full_ttt, keys = key_prc, axis = 0)\n",
    "    dfttd = pd.concat(full_ttd, keys = key_prc, axis = 0)\n",
    "    dfspd = pd.concat(full_spd, keys = key_prc, axis = 0)\n",
    "    dfctr = pd.concat(full_ctr, keys = key_prc, axis = 0)\n",
    "    return dfttt,dfttd, dfspd,dfctr \n",
    "\n",
    "def filter_data(var, zone='Cpt_5'):\n",
    "    return var.unstack(level=0)[zone]\n",
    "\n",
    "data = load_data() \n",
    "\n",
    "def plot_data(zone='Cpt_5',prc = None):\n",
    "    data_flt = [filter_data(var) for var in data]        \n",
    "    df=pd.concat(data_flt,keys = ['TTT','TTD','SPD','CTR'])\n",
    "\n",
    "    print(prc,zone)\n",
    "    \n",
    "    if prc[0]==\"All\" or prc is None:\n",
    "        df = df.reset_index(level=0);\n",
    "    else:\n",
    "        df = df.loc[:,prc] \n",
    "        df = df.reset_index(level=0)        \n",
    "  \n",
    "    for title, group in df.groupby('level_0'):\n",
    "        group.plot(title=title, grid = True, figsize=(15,5))\n",
    "\n",
    "   "
   ]
  },
  {
   "cell_type": "code",
   "execution_count": null,
   "metadata": {},
   "outputs": [],
   "source": [
    "data_view = widgets.interactive(plot_data,zone=zonewdgt, prc=prc_sel)\n",
    "zonewdgt.observe(lambda x: data_view.update(), 'value')\n",
    "display(data_view)"
   ]
  },
  {
   "cell_type": "markdown",
   "metadata": {},
   "source": [
    "## Routing Data \n",
    "\n",
    "We analize here the number of reroutings per case "
   ]
  },
  {
   "cell_type": "code",
   "execution_count": null,
   "metadata": {},
   "outputs": [],
   "source": [
    "## Rerouting data \n",
    "\n",
    "def load_data_routing(zone='Cpt_5'):\n",
    "    output_dir = os.listdir('../data/results')\n",
    "    output_dir = sorted(output_dir) # Picking good cases\n",
    "    output_dir = [x for x in output_dir if x.startswith(zone)]\n",
    "\n",
    "    lst_route = []\n",
    "    for case in output_dir:\n",
    "        load_dir = os.getcwd()+'/../data/results/'+ case+'/OUT/defaultOut_ctrlzonedata_.csv'\n",
    "        routing = pd.read_csv(load_dir)\n",
    "        lst_route.append(routing)\n",
    "    return lst_route\n",
    "\n",
    "lst_route = load_data_routing()\n",
    "key_prc = [0,10,20,30,40,50,70]\n",
    "dfrt = pd.concat(lst_route, keys= key_prc,axis=0)\n",
    "dfrt = dfrt.reset_index(level=0)\n",
    "dfrt.rename(columns={'level_0': 'Vanishing %'}, inplace=True)\n",
    "dfrt.groupby('Vanishing %').sum()['activation'].plot(kind='bar',title='Number of Activations', grid = True, figsize = (7,5));"
   ]
  },
  {
   "cell_type": "markdown",
   "metadata": {},
   "source": [
    "Number of activations distributed per zone:"
   ]
  },
  {
   "cell_type": "code",
   "execution_count": null,
   "metadata": {},
   "outputs": [],
   "source": [
    "dfgrp = dfrt.groupby(['zone','Vanishing %',]).sum()\n",
    "dfgrp['activation'].unstack(level='zone')"
   ]
  },
  {
   "cell_type": "markdown",
   "metadata": {},
   "source": [
    "Andres L."
   ]
  }
 ],
 "metadata": {
  "kernelspec": {
   "display_name": "ISTTT24",
   "language": "python",
   "name": "isttt24"
  },
  "language_info": {
   "codemirror_mode": {
    "name": "ipython",
    "version": 3
   },
   "file_extension": ".py",
   "mimetype": "text/x-python",
   "name": "python",
   "nbconvert_exporter": "python",
   "pygments_lexer": "ipython3",
   "version": "3.8.1"
  }
 },
 "nbformat": 4,
 "nbformat_minor": 4
}
