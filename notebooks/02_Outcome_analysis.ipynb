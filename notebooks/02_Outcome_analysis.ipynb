{
 "cells": [
  {
   "cell_type": "markdown",
   "metadata": {},
   "source": [
    "# Simulation Analysis "
   ]
  },
  {
   "cell_type": "code",
   "execution_count": null,
   "metadata": {},
   "outputs": [],
   "source": [
    "import symupy\n",
    "import pandas as pd\n",
    "import numpy as np \n",
    "import os\n",
    "import sys\n",
    "import re\n",
    "from itertools import repeat, chain\n",
    "import ipywidgets as widgets\n",
    "from IPython.display import display\n",
    "import networkx as nx\n",
    "\n",
    "try:\n",
    "    pd.set_option('plotting.backend', 'hvplot')\n",
    "except: \n",
    "    pass\n",
    "print(f\"Backend: {pd.options.plotting.backend}\")\n",
    "\n",
    "from symupy.api import Simulator,Simulation\n",
    "\n",
    "print(f\"Version of symupy: {symupy.__version__}\")\n",
    "\n",
    "packages = ['src', 'data/results/']\n",
    "\n",
    "# Adding supplementary functions \n",
    "for pck in packages:\n",
    "    print(f\"Adding folder: {pck}\")\n",
    "    sys.path.append(os.path.join(os.getcwd(),f\"../{pck}\"))\n"
   ]
  },
  {
   "cell_type": "code",
   "execution_count": null,
   "metadata": {},
   "outputs": [],
   "source": [
    "# Cases to read\n",
    "output_dir = os.listdir('../data/results')\n",
    "output_dir\n",
    "output_dir = 'Cpt_5_MANUAL_10/'\n",
    "load_dir = os.getcwd()+'/../data/results/'+ output_dir\n",
    "_ , _, mode, van = output_dir[:-1].split(\"_\")"
   ]
  },
  {
   "cell_type": "code",
   "execution_count": null,
   "metadata": {},
   "outputs": [],
   "source": [
    "filettt = load_dir +'ttt.csv'\n",
    "ttt = pd.read_csv(filettt)\n",
    "ttt.plot(title = f'Mode {mode}  - Total Travel Time - Vanishing {van}%',grid = True); # TTT"
   ]
  },
  {
   "cell_type": "code",
   "execution_count": null,
   "metadata": {},
   "outputs": [],
   "source": [
    "filettd = load_dir+'ttd.csv'\n",
    "ttd = pd.read_csv(filettd)\n",
    "ttd.plot(title = f'Mode {mode}  - Total Travel Distance - Vanishing {van}%',grid = True); # TTD"
   ]
  },
  {
   "cell_type": "code",
   "execution_count": null,
   "metadata": {},
   "outputs": [],
   "source": [
    "filespd = load_dir+'spd.csv'\n",
    "spd = pd.read_csv(filespd)\n",
    "spd.plot(title = f'Mode {mode}  - Speed Zone - Vanishing {van}%', grid = True); # SPD"
   ]
  },
  {
   "cell_type": "code",
   "execution_count": null,
   "metadata": {},
   "outputs": [],
   "source": [
    "filectr = load_dir+'ctr.csv'\n",
    "ctr = pd.read_csv(filectr)\n",
    "ctr.plot(title = f'Mode {mode}  - Vanishing Policy - {van}%', grid = True); # CTR"
   ]
  },
  {
   "cell_type": "markdown",
   "metadata": {},
   "source": [
    "Andres L."
   ]
  }
 ],
 "metadata": {
  "kernelspec": {
   "display_name": "ISTTT24",
   "language": "python",
   "name": "isttt24"
  },
  "language_info": {
   "codemirror_mode": {
    "name": "ipython",
    "version": 3
   },
   "file_extension": ".py",
   "mimetype": "text/x-python",
   "name": "python",
   "nbconvert_exporter": "python",
   "pygments_lexer": "ipython3",
   "version": "3.8.1"
  }
 },
 "nbformat": 4,
 "nbformat_minor": 4
}
