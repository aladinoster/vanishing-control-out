{
 "cells": [
  {
   "cell_type": "markdown",
   "metadata": {},
   "source": [
    "# Data Analysis\n",
    "\n",
    "This are charts to illustrate the behavior of different curves under the effect of variation of vanishing policies. "
   ]
  },
  {
   "cell_type": "code",
   "execution_count": 1,
   "metadata": {},
   "outputs": [
    {
     "name": "stdout",
     "output_type": "stream",
     "text": [
      "Successful import of symupy\n",
      "Backend: matplotlib\n",
      "Version of symupy: 0.2.3\n",
      "Adding folder: src\n",
      "Adding folder: data/results/\n"
     ]
    },
    {
     "name": "stderr",
     "output_type": "stream",
     "text": [
      "\n",
      "Bad key \"text.kerning_factor\" on line 4 in\n",
      "/Users/andresladino/opt/anaconda3/envs/isttt24/lib/python3.8/site-packages/matplotlib/mpl-data/stylelib/_classic_test_patch.mplstyle.\n",
      "You probably need to get an updated matplotlibrc file from\n",
      "https://github.com/matplotlib/matplotlib/blob/v3.1.3/matplotlibrc.template\n",
      "or from the matplotlib source distribution\n"
     ]
    }
   ],
   "source": [
    "import symupy\n",
    "import pandas as pd\n",
    "import numpy as np \n",
    "import os\n",
    "import sys\n",
    "import re\n",
    "from itertools import repeat, chain\n",
    "import ipywidgets as widgets\n",
    "from IPython.display import display\n",
    "import networkx as nx\n",
    "import matplotlib.pyplot as plt \n",
    "\n",
    "# try:\n",
    "#     pd.set_option('plotting.backend', 'hvplot')\n",
    "# except: \n",
    "#     pass\n",
    "print(f\"Backend: {pd.options.plotting.backend}\")\n",
    "\n",
    "from symupy.api import Simulator,Simulation\n",
    "\n",
    "print(f\"Version of symupy: {symupy.__version__}\")\n",
    "\n",
    "packages = ['src', 'data/results/']\n",
    "\n",
    "# Adding supplementary functions \n",
    "for pck in packages:\n",
    "    print(f\"Adding folder: {pck}\")\n",
    "    sys.path.append(os.path.join(os.getcwd(),f\"../{pck}\"))\n"
   ]
  },
  {
   "cell_type": "code",
   "execution_count": 2,
   "metadata": {},
   "outputs": [],
   "source": [
    "# ==============\n",
    "# Widgets\n",
    "# ==============\n",
    "\n",
    "zones_cpt = [f'Cpt_{x}' for x in list(np.arange(0,9)+1)]\n",
    "\n",
    "zonewdgt = widgets.RadioButtons(\n",
    "    options = zones_cpt,\n",
    "    value=zones_cpt[4], # Defaults to 'pineapple'\n",
    "#    layout={'width': 'max-content'}, # If the items' names are long\n",
    "    description='Zone:',\n",
    "    disabled=False\n",
    ")\n",
    "prc_sel = widgets.SelectMultiple(\n",
    "    options=['All',0,10,20,30,40,50,70],\n",
    "    value=['All'],\n",
    "    #rows=10,\n",
    "    description='Vanishing Policy',\n",
    "    disabled=False\n",
    ")"
   ]
  },
  {
   "cell_type": "code",
   "execution_count": 3,
   "metadata": {},
   "outputs": [],
   "source": [
    "# ==============\n",
    "# Plot functions \n",
    "# ==============\n",
    "\n",
    "def load_data(zone = 'Cpt_5'):\n",
    "    \"\"\"Reading and loading files\"\"\"\n",
    "    \n",
    "    output_dir = os.listdir('../data/results')\n",
    "    output_dir = sorted(output_dir)[2:-1] # Picking good cases\n",
    "\n",
    "    full_ttt = []\n",
    "    full_ttd = []\n",
    "    full_spd = []\n",
    "    full_ctr = []\n",
    "    for case in output_dir:\n",
    "        load_dir = os.getcwd()+'/../data/results/'+ case+'/'\n",
    "        \n",
    "        filettt = load_dir +'ttt.csv'\n",
    "        filettd = load_dir +'ttd.csv'\n",
    "        filespd = load_dir +'spd.csv'\n",
    "        filectr = load_dir +'ctr.csv'\n",
    "        \n",
    "        ttt = pd.read_csv(filettt)        \n",
    "        ttd = pd.read_csv(filettd)\n",
    "        spd = pd.read_csv(filespd)\n",
    "        ctr = pd.read_csv(filectr)\n",
    "        \n",
    "        full_ttt.append(ttt)\n",
    "        full_ttd.append(ttd)\n",
    "        full_spd.append(spd)\n",
    "        full_ctr.append(ctr)        \n",
    "\n",
    "    key_prc = [0,10,20,30,40,50,70]\n",
    "    dfttt = pd.concat(full_ttt, keys = key_prc, axis = 0)\n",
    "    dfttd = pd.concat(full_ttd, keys = key_prc, axis = 0)\n",
    "    dfspd = pd.concat(full_spd, keys = key_prc, axis = 0)\n",
    "    dfctr = pd.concat(full_ctr, keys = key_prc, axis = 0)\n",
    "    return dfttt,dfttd, dfspd,dfctr \n",
    "\n",
    "def filter_data(var, zone='Cpt_5'):\n",
    "    return var.unstack(level=0)[zone]\n",
    "\n",
    "data = load_data() \n",
    "\n",
    "def plot_data(zone='Cpt_5',prc = None):\n",
    "    data_flt = [filter_data(var) for var in data]        \n",
    "    df=pd.concat(data_flt,keys = ['TTT','TTD','SPD','CTR'])\n",
    "\n",
    "    print(prc)\n",
    "    \n",
    "    if prc[0]==\"All\" or prc is None:\n",
    "        df = df.reset_index(level=0);\n",
    "    else:\n",
    "        df = df.loc[:,prc] \n",
    "        df = df.reset_index(level=0)        \n",
    "  \n",
    "    for title, group in df.groupby('level_0'):\n",
    "        group.plot(title=title, grid = True, figsize=(7,5))\n",
    "\n",
    "   "
   ]
  },
  {
   "cell_type": "code",
   "execution_count": 4,
   "metadata": {},
   "outputs": [
    {
     "data": {
      "application/vnd.jupyter.widget-view+json": {
       "model_id": "4d913c4c69784044a0f479ccdf8aef45",
       "version_major": 2,
       "version_minor": 0
      },
      "text/plain": [
       "interactive(children=(RadioButtons(description='Zone:', index=4, options=('Cpt_1', 'Cpt_2', 'Cpt_3', 'Cpt_4', …"
      ]
     },
     "metadata": {},
     "output_type": "display_data"
    }
   ],
   "source": [
    "data_view = widgets.interactive(plot_data,zone=zonewdgt, prc=prc_sel)\n",
    "zonewdgt.observe(lambda x: data_view.update(), 'value')\n",
    "display(data_view)"
   ]
  },
  {
   "cell_type": "markdown",
   "metadata": {},
   "source": [
    "## Routing Data \n",
    "\n",
    "We analize here the number of reroutings per case "
   ]
  },
  {
   "cell_type": "code",
   "execution_count": 5,
   "metadata": {},
   "outputs": [
    {
     "data": {
      "image/png": "[encoded data removed]",
      "text/plain": [
       "<Figure size 504x360 with 1 Axes>"
      ]
     },
     "metadata": {
      "needs_background": "light"
     },
     "output_type": "display_data"
    }
   ],
   "source": [
    "## Rerouting data \n",
    "\n",
    "def load_data_routing():\n",
    "    output_dir = os.listdir('../data/results')\n",
    "    output_dir = sorted(output_dir)[2:-1] # Picking good cases\n",
    "\n",
    "    lst_route = []\n",
    "    for case in output_dir:\n",
    "        load_dir = os.getcwd()+'/../data/results/'+ case+'/OUT/defaultOut_ctrlzonedata_.csv'\n",
    "        routing = pd.read_csv(load_dir)\n",
    "        lst_route.append(routing)\n",
    "    return lst_route\n",
    "\n",
    "lst_route = load_data_routing()\n",
    "key_prc = [0,10,20,30,40,50,70]\n",
    "dfrt = pd.concat(lst_route, keys= key_prc,axis=0)\n",
    "dfrt = dfrt.reset_index(level=0)\n",
    "dfrt.rename(columns={'level_0': 'Vanishing %'}, inplace=True)\n",
    "dfrt.groupby('Vanishing %').sum()['activation'].plot(kind='bar',title='Number of Activations', grid = True, figsize = (7,5));"
   ]
  },
  {
   "cell_type": "markdown",
   "metadata": {},
   "source": [
    "Number of activations distributed per zone:"
   ]
  },
  {
   "cell_type": "code",
   "execution_count": 6,
   "metadata": {},
   "outputs": [
    {
     "data": {
      "text/html": [
       "<div>\n",
       "<style scoped>\n",
       "    .dataframe tbody tr th:only-of-type {\n",
       "        vertical-align: middle;\n",
       "    }\n",
       "\n",
       "    .dataframe tbody tr th {\n",
       "        vertical-align: top;\n",
       "    }\n",
       "\n",
       "    .dataframe thead th {\n",
       "        text-align: right;\n",
       "    }\n",
       "</style>\n",
       "<table border=\"1\" class=\"dataframe\">\n",
       "  <thead>\n",
       "    <tr style=\"text-align: right;\">\n",
       "      <th>zone</th>\n",
       "      <th>331</th>\n",
       "      <th>332</th>\n",
       "      <th>333</th>\n",
       "      <th>334</th>\n",
       "      <th>335</th>\n",
       "      <th>336</th>\n",
       "      <th>337</th>\n",
       "      <th>338</th>\n",
       "      <th>339</th>\n",
       "    </tr>\n",
       "    <tr>\n",
       "      <th>Vanishing %</th>\n",
       "      <th></th>\n",
       "      <th></th>\n",
       "      <th></th>\n",
       "      <th></th>\n",
       "      <th></th>\n",
       "      <th></th>\n",
       "      <th></th>\n",
       "      <th></th>\n",
       "      <th></th>\n",
       "    </tr>\n",
       "  </thead>\n",
       "  <tbody>\n",
       "    <tr>\n",
       "      <th>0</th>\n",
       "      <td>5.0</td>\n",
       "      <td>5.0</td>\n",
       "      <td>6.0</td>\n",
       "      <td>2.0</td>\n",
       "      <td>2.0</td>\n",
       "      <td>4.0</td>\n",
       "      <td>1.0</td>\n",
       "      <td>4.0</td>\n",
       "      <td>3.0</td>\n",
       "    </tr>\n",
       "    <tr>\n",
       "      <th>10</th>\n",
       "      <td>2.0</td>\n",
       "      <td>2.0</td>\n",
       "      <td>NaN</td>\n",
       "      <td>2.0</td>\n",
       "      <td>1.0</td>\n",
       "      <td>1.0</td>\n",
       "      <td>NaN</td>\n",
       "      <td>1.0</td>\n",
       "      <td>2.0</td>\n",
       "    </tr>\n",
       "    <tr>\n",
       "      <th>20</th>\n",
       "      <td>2.0</td>\n",
       "      <td>2.0</td>\n",
       "      <td>NaN</td>\n",
       "      <td>2.0</td>\n",
       "      <td>1.0</td>\n",
       "      <td>1.0</td>\n",
       "      <td>NaN</td>\n",
       "      <td>1.0</td>\n",
       "      <td>2.0</td>\n",
       "    </tr>\n",
       "    <tr>\n",
       "      <th>30</th>\n",
       "      <td>2.0</td>\n",
       "      <td>4.0</td>\n",
       "      <td>1.0</td>\n",
       "      <td>5.0</td>\n",
       "      <td>28758.0</td>\n",
       "      <td>1.0</td>\n",
       "      <td>2.0</td>\n",
       "      <td>5.0</td>\n",
       "      <td>6.0</td>\n",
       "    </tr>\n",
       "    <tr>\n",
       "      <th>40</th>\n",
       "      <td>3.0</td>\n",
       "      <td>4.0</td>\n",
       "      <td>NaN</td>\n",
       "      <td>2.0</td>\n",
       "      <td>38042.0</td>\n",
       "      <td>2.0</td>\n",
       "      <td>NaN</td>\n",
       "      <td>5.0</td>\n",
       "      <td>7.0</td>\n",
       "    </tr>\n",
       "    <tr>\n",
       "      <th>50</th>\n",
       "      <td>2.0</td>\n",
       "      <td>3.0</td>\n",
       "      <td>NaN</td>\n",
       "      <td>2.0</td>\n",
       "      <td>13712.0</td>\n",
       "      <td>3.0</td>\n",
       "      <td>NaN</td>\n",
       "      <td>2.0</td>\n",
       "      <td>3.0</td>\n",
       "    </tr>\n",
       "    <tr>\n",
       "      <th>70</th>\n",
       "      <td>NaN</td>\n",
       "      <td>NaN</td>\n",
       "      <td>NaN</td>\n",
       "      <td>1.0</td>\n",
       "      <td>NaN</td>\n",
       "      <td>NaN</td>\n",
       "      <td>NaN</td>\n",
       "      <td>NaN</td>\n",
       "      <td>NaN</td>\n",
       "    </tr>\n",
       "  </tbody>\n",
       "</table>\n",
       "</div>"
      ],
      "text/plain": [
       "zone         331  332  333  334      335  336  337  338  339\n",
       "Vanishing %                                                 \n",
       "0            5.0  5.0  6.0  2.0      2.0  4.0  1.0  4.0  3.0\n",
       "10           2.0  2.0  NaN  2.0      1.0  1.0  NaN  1.0  2.0\n",
       "20           2.0  2.0  NaN  2.0      1.0  1.0  NaN  1.0  2.0\n",
       "30           2.0  4.0  1.0  5.0  28758.0  1.0  2.0  5.0  6.0\n",
       "40           3.0  4.0  NaN  2.0  38042.0  2.0  NaN  5.0  7.0\n",
       "50           2.0  3.0  NaN  2.0  13712.0  3.0  NaN  2.0  3.0\n",
       "70           NaN  NaN  NaN  1.0      NaN  NaN  NaN  NaN  NaN"
      ]
     },
     "execution_count": 6,
     "metadata": {},
     "output_type": "execute_result"
    }
   ],
   "source": [
    "dfgrp = dfrt.groupby(['zone','Vanishing %',]).sum()\n",
    "dfgrp['activation'].unstack(level='zone')"
   ]
  },
  {
   "cell_type": "markdown",
   "metadata": {},
   "source": [
    "Andres L."
   ]
  }
 ],
 "metadata": {
  "kernelspec": {
   "display_name": "ISTTT24",
   "language": "python",
   "name": "isttt24"
  },
  "language_info": {
   "codemirror_mode": {
    "name": "ipython",
    "version": 3
   },
   "file_extension": ".py",
   "mimetype": "text/x-python",
   "name": "python",
   "nbconvert_exporter": "python",
   "pygments_lexer": "ipython3",
   "version": "3.8.1"
  }
 },
 "nbformat": 4,
 "nbformat_minor": 4
}
