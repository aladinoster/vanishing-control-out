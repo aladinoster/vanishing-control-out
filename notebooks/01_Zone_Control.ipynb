{
 "cells": [
  {
   "cell_type": "markdown",
   "metadata": {
    "papermill": {
     "duration": 0.011171,
     "end_time": "2020-04-29T07:46:13.984389",
     "exception": false,
     "start_time": "2020-04-29T07:46:13.973218",
     "status": "completed"
    },
    "tags": []
   },
   "source": [
    "# Effect of Vanishing Policies in traffic rerouting\n",
    "\n",
    "**Objective**\n",
    "* The objective is to perform an analysis to determine the impact of introducing vanishing policies in specific zones of a city. \n",
    "\n",
    "<img src=\"../images/zones.png\" alt=\"drawing\" width=\"400\"/>\n"
   ]
  },
  {
   "cell_type": "code",
   "execution_count": null,
   "metadata": {
    "papermill": {
     "duration": 0.016854,
     "end_time": "2020-04-29T07:46:14.012083",
     "exception": false,
     "start_time": "2020-04-29T07:46:13.995229",
     "status": "completed"
    },
    "tags": [
     "parameters"
    ]
   },
   "outputs": [],
   "source": [
    "# Parameters control\n",
    "\n",
    "# Experiment name \n",
    "EXPERIMENT = \"CTR\"\n",
    "# Control algorithm \n",
    "CTR_ALG = \"CO_P\"\n",
    "# Control mode (manual/auto)\n",
    "CONTROL_MODE = 'AUTO'\n",
    "# Control distance action\n",
    "DISTANCE_CONTROL = 800\n",
    "# Trigger time of an action (Only manual)\n",
    "TRIGGER_TIME = 9000\n",
    "# Weight coefficient cooperative control\n",
    "SELFISH = 0.5\n",
    "# Network number of rows / columns (Manhattan case)\n",
    "NRow = 5\n",
    "NCol = 5\n",
    "# Control Cooperative proportional\n",
    "CO_KP = 0.1\n",
    "# Control Cooperative integral\n",
    "CO_TI = 360.0\n",
    "# Control Cooperative Windup\n",
    "CO_TWD = 1 \n",
    "# Ego Proportional\n",
    "KP = 0.1\n",
    "# Ego Integral \n",
    "TI = 360.0\n",
    "# Ego Windup\n",
    "TWD = 1\n",
    "\n",
    "# Scenario values \n",
    "\n",
    "# Default path for simulator\n",
    "PATH_SYMUVIA = '/Users/andresladino/Documents/01-Code/04-Platforms/dev-symuvia/build/lib/libSymuVia.dylib' \n",
    "# Scenario \n",
    "SCENARIO = 'mesh30x30/'\n",
    "# Number of zones\n",
    "ZONES = '25zones/'\n",
    "# Simulation file \n",
    "FILE = 'symuvia_network_25zones.xml'\n",
    "# Demand file\n",
    "DEMAND_FILE = 'extnewtripset.csv'\n",
    "# Reference speeds file\n",
    "REF_SPEED = \"ref_speeds_25zones.csv\""
   ]
  },
  {
   "cell_type": "code",
   "execution_count": null,
   "metadata": {
    "papermill": {
     "duration": 1.994041,
     "end_time": "2020-04-29T07:46:16.039864",
     "exception": false,
     "start_time": "2020-04-29T07:46:14.045823",
     "status": "completed"
    },
    "tags": []
   },
   "outputs": [],
   "source": [
    "import symupy\n",
    "import pandas as pd\n",
    "import numpy as np \n",
    "import os\n",
    "import sys\n",
    "import re\n",
    "from itertools import repeat, chain\n",
    "import ipywidgets as widgets\n",
    "from IPython.display import display\n",
    "import networkx as nx\n",
    "\n",
    "try:\n",
    "    pd.set_option('plotting.backend', 'hvplot')\n",
    "except: \n",
    "    pass\n",
    "print(f\"Backend: {pd.options.plotting.backend}\")\n",
    "\n",
    "from symupy.api import Simulator,Simulation\n",
    "\n",
    "print(f\"Version of symupy: {symupy.__version__}\")\n",
    "\n",
    "packages = ['src']\n",
    "\n",
    "# Adding supplementary functions \n",
    "for pck in packages:\n",
    "    print(f\"Adding folder: {pck}\")\n",
    "    sys.path.append(os.path.join(os.getcwd(),f\"../{pck}\"))\n"
   ]
  },
  {
   "cell_type": "code",
   "execution_count": null,
   "metadata": {
    "papermill": {
     "duration": 0.01654,
     "end_time": "2020-04-29T07:46:16.065952",
     "exception": false,
     "start_time": "2020-04-29T07:46:16.049412",
     "status": "completed"
    },
    "tags": []
   },
   "outputs": [],
   "source": [
    "# Path information\n",
    "\n",
    "PATH_SCENARIO = os.getcwd()+f\"/../data/scenarios/{SCENARIO}{ZONES}{FILE}\" # Github\n",
    "print(f\"Scenario: {PATH_SCENARIO}\")\n",
    "DATA_INPUT = f\"../data/scenarios/{SCENARIO}\" # Github\n",
    "print(f\"Input Data: {DATA_INPUT}\")\n",
    "PATH_SPEEDS = os.getcwd()+f\"/../data/scenarios/{SCENARIO}{ZONES}{REF_SPEED}\" # Github\n",
    "print(f\"Ref Speeds: {PATH_SPEEDS}\")"
   ]
  },
  {
   "cell_type": "markdown",
   "metadata": {},
   "source": [
    "#### Defining output path & creation"
   ]
  },
  {
   "cell_type": "code",
   "execution_count": null,
   "metadata": {},
   "outputs": [],
   "source": [
    "def create_output_dir():\n",
    "    \"\"\"\n",
    "        Creates output directory for the results \n",
    "    \"\"\"\n",
    "    output_dir = os.getcwd()+f\"/../data/results/{SCENARIO}{ZONES}{EXPERIMENT}_{CTR_ALG}/\"\n",
    "    return output_dir\n",
    "    "
   ]
  },
  {
   "cell_type": "code",
   "execution_count": null,
   "metadata": {},
   "outputs": [],
   "source": [
    "output_dir = create_output_dir()\n",
    "print(f\"Output Dir: {output_dir}\")"
   ]
  },
  {
   "cell_type": "code",
   "execution_count": null,
   "metadata": {},
   "outputs": [],
   "source": [
    "!mkdir -p $output_dir"
   ]
  },
  {
   "cell_type": "markdown",
   "metadata": {},
   "source": [
    "#### Copy XML file and updating path"
   ]
  },
  {
   "cell_type": "code",
   "execution_count": null,
   "metadata": {},
   "outputs": [],
   "source": [
    "!cp $PATH_SCENARIO $output_dir"
   ]
  },
  {
   "cell_type": "code",
   "execution_count": null,
   "metadata": {},
   "outputs": [],
   "source": [
    "PATH_SCENARIO=f\"{output_dir}{FILE}\"\n",
    "print(f\"New Path: {PATH_SCENARIO}\")"
   ]
  },
  {
   "cell_type": "markdown",
   "metadata": {
    "papermill": {
     "duration": 0.009592,
     "end_time": "2020-04-29T07:46:16.085366",
     "exception": false,
     "start_time": "2020-04-29T07:46:16.075774",
     "status": "completed"
    },
    "tags": []
   },
   "source": [
    "#### File reading\n",
    "\n",
    "* Read zone links and construct a list of strings by containing links per zone `zone2_Cpt_*.csv`\n",
    "* Read demand file `extnewtripset.csv`"
   ]
  },
  {
   "cell_type": "code",
   "execution_count": null,
   "metadata": {
    "papermill": {
     "duration": 0.052031,
     "end_time": "2020-04-29T07:46:16.146715",
     "exception": false,
     "start_time": "2020-04-29T07:46:16.094684",
     "status": "completed"
    },
    "tags": []
   },
   "outputs": [],
   "source": [
    "# Demand information\n",
    "demand = pd.read_csv(DATA_INPUT+DEMAND_FILE,sep=\";\") \n",
    "demand.rename({'Unnamed: 0':'vehid'}, axis=1, inplace=True) # Rename column\n",
    "# demand.head()"
   ]
  },
  {
   "cell_type": "code",
   "execution_count": null,
   "metadata": {
    "papermill": {
     "duration": 0.033306,
     "end_time": "2020-04-29T07:46:16.189938",
     "exception": false,
     "start_time": "2020-04-29T07:46:16.156632",
     "status": "completed"
    },
    "tags": []
   },
   "outputs": [],
   "source": [
    "# Some idea of the flow\n",
    "TIME_MAX = demand.creation.max()\n",
    "TIME_MIN = demand.creation.min()\n",
    "DELTA_TIME = TIME_MAX - TIME_MIN\n",
    "interval_cut = pd.cut(demand.creation,int(DELTA_TIME/60))\n",
    "flow = demand.groupby(interval_cut).count()\n",
    "flow['stamp'] = np.arange(len(flow))\n",
    "# flow.plot(x='stamp',y='creation',grid = True, title = 'Aggregated Demand')"
   ]
  },
  {
   "cell_type": "code",
   "execution_count": null,
   "metadata": {
    "papermill": {
     "duration": 0.078146,
     "end_time": "2020-04-29T07:46:16.278365",
     "exception": false,
     "start_time": "2020-04-29T07:46:16.200219",
     "status": "completed"
    },
    "tags": []
   },
   "outputs": [],
   "source": [
    "# Vehicle creation\n",
    "numveh = demand.groupby(interval_cut).max()\n",
    "numveh['stamp'] = np.arange(len(numveh))\n",
    "# numveh.plot(x='stamp',y='creation',grid = True, title = 'Aggregated Demand')"
   ]
  },
  {
   "cell_type": "markdown",
   "metadata": {
    "papermill": {
     "duration": 0.009938,
     "end_time": "2020-04-29T07:46:16.297705",
     "exception": false,
     "start_time": "2020-04-29T07:46:16.287767",
     "status": "completed"
    },
    "tags": []
   },
   "source": [
    "## Zone information \n",
    "\n",
    "Taking zone information from CSV files"
   ]
  },
  {
   "cell_type": "code",
   "execution_count": null,
   "metadata": {
    "papermill": {
     "duration": 0.014624,
     "end_time": "2020-04-29T07:46:16.322441",
     "exception": false,
     "start_time": "2020-04-29T07:46:16.307817",
     "status": "completed"
    },
    "tags": []
   },
   "outputs": [],
   "source": [
    "# # Zone information\n",
    "\n",
    "# files = [f for f in os.listdir(DATA_INPUT) if re.search(r'\\d.csv$', f)]\n",
    "\n",
    "# # Data management\n",
    "# df_zones = [] \n",
    "\n",
    "# # Communicate to Symuvia\n",
    "# dct_ctrl = {}\n",
    "\n",
    "# # Reading all files\n",
    "# for file in files: \n",
    "#     key = file.split(\"_\")[-1][0] # Zone number\n",
    "#     df_zone = pd.read_csv(DATA_INPUT+file, header = None, names = [\"Link\"])\n",
    "#     df_zone[\"Zone\"] = key\n",
    "#     df_zones.append(df_zone)\n",
    "#     ls_links = ' '.join(df_zone[\"Link\"].to_list())\n",
    "#     dct_ctrl[key] = f\"'{ls_links}'\" # This special to have \"'x'\" instead of 'x'\n",
    "\n",
    "# # All zone data is here\n",
    "# df_zones = pd.concat(df_zones)\n",
    "# # df_zones.head()"
   ]
  },
  {
   "cell_type": "markdown",
   "metadata": {
    "papermill": {
     "duration": 0.008954,
     "end_time": "2020-04-29T07:46:16.340493",
     "exception": false,
     "start_time": "2020-04-29T07:46:16.331539",
     "status": "completed"
    },
    "tags": []
   },
   "source": [
    "#### Recreation of a demand\n",
    "\n",
    "As it can be observed the demand profile here assumed is only valid for the first 150 minutes. In order to reach equilibria we propose to sample vehicles uniformly within this interval to create the amount of vehicles for the following 100 seconds. "
   ]
  },
  {
   "cell_type": "code",
   "execution_count": null,
   "metadata": {
    "papermill": {
     "duration": 0.01364,
     "end_time": "2020-04-29T07:46:16.363357",
     "exception": false,
     "start_time": "2020-04-29T07:46:16.349717",
     "status": "completed"
    },
    "tags": []
   },
   "outputs": [],
   "source": [
    "# TIME_LIMIT = 150\n",
    "# constant_demand = demand.query(f\"creation<={TIME_LIMIT * 60}\")\n",
    "# id_new_veh = constant_demand.vehid.max()\n",
    "\n",
    "# # Creating new demand \n",
    "# extra_demand = constant_demand.copy()\n",
    "# # Shifting new vehicles instant\n",
    "# extra_demand['creation'] = extra_demand['creation'].apply(lambda x: x + TIME_LIMIT * 60)\n",
    "# extra_demand['vehid'] = extra_demand['vehid'].apply(lambda x: x + id_new_veh)\n",
    "# # Shifting vehicle instant creation \n",
    "# extra_demand.head()\n",
    "\n",
    "# TIME_MAX = extra_demand.creation.max()\n",
    "# TIME_MIN = extra_demand.creation.min()\n",
    "# DELTA_TIME = TIME_MAX - TIME_MIN\n",
    "\n",
    "# interal_cut = pd.cut(extra_demand.creation, bins = int(DELTA_TIME/60))\n",
    "\n",
    "# extra_flow = extra_demand.groupby(interal_cut).count()\n",
    "# extra_flow['stamp'] = np.arange(len(extra_flow))\n",
    "# # extra_flow.plot(x='stamp',y='creation',grid = True, title = 'Extended Demand')"
   ]
  },
  {
   "cell_type": "code",
   "execution_count": null,
   "metadata": {
    "papermill": {
     "duration": 0.013334,
     "end_time": "2020-04-29T07:46:16.385815",
     "exception": false,
     "start_time": "2020-04-29T07:46:16.372481",
     "status": "completed"
    },
    "tags": []
   },
   "outputs": [],
   "source": [
    "# demand = pd.concat([constant_demand, extra_demand])\n",
    "\n",
    "# MAX_TIME = demand.creation.max()\n",
    "\n",
    "# flow = demand.groupby(pd.cut(demand.creation,int(demand.creation.max()/60))).count()\n",
    "# flow['stamp'] = np.arange(len(flow))\n",
    "# # flow.plot(x='stamp',y='creation',grid = True, title = 'Aggregated Demand')\n",
    "\n"
   ]
  },
  {
   "cell_type": "markdown",
   "metadata": {
    "papermill": {
     "duration": 0.009719,
     "end_time": "2020-04-29T07:46:16.404790",
     "exception": false,
     "start_time": "2020-04-29T07:46:16.395071",
     "status": "completed"
    },
    "tags": []
   },
   "source": [
    "### Launch simulation \n",
    "\n",
    "The objective of the following part is to perform a step by step simulation in multiple scenarios. \n",
    "\n",
    "#### Scenario generation \n",
    "\n",
    "This instantiate and generate the scenario for the simulation "
   ]
  },
  {
   "cell_type": "code",
   "execution_count": null,
   "metadata": {
    "papermill": {
     "duration": 0.109374,
     "end_time": "2020-04-29T07:46:16.523573",
     "exception": false,
     "start_time": "2020-04-29T07:46:16.414199",
     "status": "completed"
    },
    "tags": []
   },
   "outputs": [],
   "source": [
    "# Simulation creation \n",
    "simulator = Simulator(PATH_SYMUVIA, writeXML = True)\n",
    "\n",
    "# Register simulation\n",
    "simulator.register_simulation(PATH_SCENARIO)\n",
    "\n",
    "# Sensors\n",
    "sensors = list(simulator.simulation.get_mfd_sensor_names())\n",
    "sensor_global = sensors[-1]\n",
    "# sensors.pop(); # takes out Global"
   ]
  },
  {
   "cell_type": "markdown",
   "metadata": {
    "papermill": {
     "duration": 0.00926,
     "end_time": "2020-04-29T07:46:16.542585",
     "exception": false,
     "start_time": "2020-04-29T07:46:16.533325",
     "status": "completed"
    },
    "tags": []
   },
   "source": [
    "#### Supplementary functions\n",
    "\n",
    "Define all supplementary functions required for the control "
   ]
  },
  {
   "cell_type": "code",
   "execution_count": null,
   "metadata": {
    "papermill": {
     "duration": 0.023464,
     "end_time": "2020-04-29T07:46:16.575911",
     "exception": false,
     "start_time": "2020-04-29T07:46:16.552447",
     "status": "completed"
    },
    "tags": []
   },
   "outputs": [],
   "source": [
    "from data.transformer import extract_veh_data\n",
    "from algorithms.control import define_grid_graph, ComputeVanishingControl\n",
    "\n",
    "# Progress bar \n",
    "max_count = 100\n",
    "\n",
    "# progress =  widgets.IntProgress(\n",
    "#     value=0,\n",
    "#     min=0,\n",
    "#     max=max_count,\n",
    "#     step=1,\n",
    "#     description='Progress:',\n",
    "#     bar_style='success', # 'success', 'info', 'warning', 'danger' or ''\n",
    "#     orientation='horizontal'\n",
    "# ) # instantiate the bar  \n",
    "\n",
    "refSpeed = pd.read_csv(PATH_SPEEDS, header=None)\n",
    "\n",
    "DEFAULT_SPD = dict(zip(sensors, refSpeed.to_numpy().T[0]))\n",
    "\n",
    "# Create cooperative graph\n",
    "G = define_grid_graph(NRow, NCol, selfishness=SELFISH, refSpeed=DEFAULT_SPD, sensors=sensors)\n",
    "\n",
    "# nx.draw(G, node_color=\"#A0CBE2\", with_labels=True) # Plot\n"
   ]
  },
  {
   "cell_type": "markdown",
   "metadata": {
    "papermill": {
     "duration": 0.009375,
     "end_time": "2020-04-29T07:46:16.595495",
     "exception": false,
     "start_time": "2020-04-29T07:46:16.586120",
     "status": "completed"
    },
    "tags": []
   },
   "source": [
    "#### Control policy\n",
    "\n",
    "Here we set the control policy "
   ]
  },
  {
   "cell_type": "code",
   "execution_count": null,
   "metadata": {
    "papermill": {
     "duration": 0.01796,
     "end_time": "2020-04-29T07:46:16.623011",
     "exception": false,
     "start_time": "2020-04-29T07:46:16.605051",
     "status": "completed"
    },
    "tags": []
   },
   "outputs": [],
   "source": [
    "# Control\n",
    "\n",
    "# Control time\n",
    "control_interval = 180 # seconds\n",
    "\n",
    "# Manual defaults\n",
    "state_A = dict(zip(sensors, repeat(0)))\n",
    "\n",
    "state_B = dict(zip(sensors, repeat(0)))\n",
    "\n",
    "# Setting parameters for control action\n",
    "if CTR_ALG == \"CO_P\":\n",
    "    kP = CO_KP\n",
    "    Ti = CO_KP\n",
    "    Twd = CO_KP\n",
    "elif CTR_ALG == \"CO_PI\":\n",
    "    kP = CO_KP \n",
    "    Ti = CO_TI\n",
    "    Twd = CO_TWD\n",
    "else: \n",
    "    kP = KP\n",
    "    Ti = TI\n",
    "    Twd = TWD\n",
    "\n",
    "    \n",
    "if CONTROL_MODE == \"MANUAL\":\n",
    "    compute_control = lambda time, threshold, speed, graph: state_B if time>threshold else state_A \n",
    "elif CONTROL_MODE == \"AUTO\": \n",
    "    compute_control = ComputeVanishingControl(G, control_interval, kP, Ti, Twd, CTR_ALG)\n",
    "else:\n",
    "    compute_control = lambda time, threshold, speed, graph: state_A\n",
    "\n",
    "    \n",
    "# Distance control action\n",
    "dstcontrol = dict(zip(sensors, repeat(DISTANCE_CONTROL)))"
   ]
  },
  {
   "cell_type": "markdown",
   "metadata": {
    "papermill": {
     "duration": 0.009495,
     "end_time": "2020-04-29T07:46:16.642118",
     "exception": false,
     "start_time": "2020-04-29T07:46:16.632623",
     "status": "completed"
    },
    "tags": []
   },
   "source": [
    "#### Runtime simulations\n",
    "\n",
    "The following launches the runtime simulations."
   ]
  },
  {
   "cell_type": "code",
   "execution_count": null,
   "metadata": {
    "papermill": {
     "duration": 136.926871,
     "end_time": "2020-04-29T07:48:33.578646",
     "exception": false,
     "start_time": "2020-04-29T07:46:16.651775",
     "status": "completed"
    },
    "tags": []
   },
   "outputs": [],
   "source": [
    "# Runtime\n",
    "TTT = []\n",
    "TTD = []\n",
    "SPD = []\n",
    "CTR = []\n",
    "\n",
    "TTT_GLOBAL = []\n",
    "TTD_GLOBAL = []\n",
    "SPD_GLOBAL = []\n",
    "\n",
    "# Simulation runtime\n",
    "# display(progress) # display the bar\n",
    "\n",
    "vehids = []\n",
    "cum_veh = []\n",
    "\n",
    "with simulator as s:\n",
    "#     progress.value = 0\n",
    "    while s.do_next:\n",
    "\n",
    "        # Vehicle Creation on demand\n",
    "        if s.simulationstep > 0:\n",
    "            for veh_data in extract_veh_data(demand, s.simulationstep):\n",
    "                vehid = s.create_vehicle_with_route(*veh_data)\n",
    "                vehids.append(vehid)\n",
    "\n",
    "        # Get measurement\n",
    "        if not s.simulationstep % control_interval and s.simulationstep > 0:\n",
    "            \n",
    "            TTD.append(dict(zip(sensors[:-1], s.get_total_travel_distance(sensors[:-1]))))\n",
    "            TTT.append(dict(zip(sensors[:-1], s.get_total_travel_time(sensors[:-1]))))\n",
    "            SPD.append(dict(zip(sensors[:-1], s.get_mfd_speed(sensors[:-1]))))\n",
    "\n",
    "            TTT_GLOBAL.append({sensor_global: s.get_total_travel_distance(sensor_global)})\n",
    "            TTD_GLOBAL.append({sensor_global: s.get_total_travel_time(sensor_global)})\n",
    "            SPD_GLOBAL.append({sensor_global: s.get_mfd_speed(sensor_global)})                \n",
    "                \n",
    "        # Declare Zone Control\n",
    "        if s.simulationstep == control_interval:\n",
    "            control_rate = compute_control(s.simulationstep, TRIGGER_TIME, SPD, G)\n",
    "            CTR.append(control_rate)\n",
    "            s.add_control_probability_zone_mfd(control_rate, dstcontrol)\n",
    "\n",
    "        # Modify Zone Control\n",
    "        if not s.simulationstep % control_interval and s.simulationstep > control_interval:\n",
    "#             progress.value += 1\n",
    "            # Control\n",
    "            new_vehs = [v for v in vehids if v not in cum_veh and v >= 0]\n",
    "            fail_vehs = [v for v in vehids if v not in cum_veh and v < 0]\n",
    "            print(\n",
    "                f\"Time: {s.simulationstep},New vehs: {len(new_vehs)}, Failed vehs:{len(fail_vehs)}, Total vehs:{len(vehids)}\"\n",
    "            )\n",
    "\n",
    "            # Store new vehicles\n",
    "            cum_veh = [v for v in vehids]        \n",
    "\n",
    "            control_rate = compute_control(s.simulationstep, TRIGGER_TIME, SPD, G)\n",
    "            CTR.append(control_rate)\n",
    "\n",
    "            s.modify_control_probability_zone_mfd(control_rate)\n",
    "\n",
    "        s.run_step() "
   ]
  },
  {
   "cell_type": "code",
   "execution_count": null,
   "metadata": {
    "papermill": {
     "duration": null,
     "end_time": null,
     "exception": null,
     "start_time": null,
     "status": "completed"
    },
    "tags": []
   },
   "outputs": [],
   "source": [
    "# Results saving\n",
    "\n",
    "# DataFrames\n",
    "ttd = pd.DataFrame(TTD)\n",
    "ttt = pd.DataFrame(TTT)\n",
    "spd = pd.DataFrame(SPD)\n",
    "ctr = pd.DataFrame(CTR)\n",
    "\n",
    "# Global \n",
    "ttdG = pd.DataFrame(TTT_GLOBAL)\n",
    "tttG = pd.DataFrame(TTD_GLOBAL)\n",
    "spdG = pd.DataFrame(SPD_GLOBAL)\n",
    "\n",
    "ttt.to_csv(output_dir + 'ttt.csv',index=False)\n",
    "ttd.to_csv(output_dir + 'ttd.csv',index=False)\n",
    "spd.to_csv(output_dir + 'spd.csv',index=False)\n",
    "ctr.to_csv(output_dir + 'ctr.csv',index=False)\n",
    "\n",
    "tttG.to_csv(output_dir + 'tttG.csv',index=False)\n",
    "ttdG.to_csv(output_dir + 'ttdG.csv',index=False)\n",
    "spdG.to_csv(output_dir + 'spdG.csv',index=False)"
   ]
  },
  {
   "cell_type": "code",
   "execution_count": null,
   "metadata": {},
   "outputs": [],
   "source": [
    "# Remove original file \n",
    "!rm -f $PATH_SCENARIO"
   ]
  },
  {
   "cell_type": "markdown",
   "metadata": {
    "papermill": {
     "duration": null,
     "end_time": null,
     "exception": null,
     "start_time": null,
     "status": "completed"
    },
    "tags": []
   },
   "source": [
    "Andres L."
   ]
  }
 ],
 "metadata": {
  "kernelspec": {
   "display_name": "ISTTT24",
   "language": "python",
   "name": "isttt24"
  },
  "language_info": {
   "codemirror_mode": {
    "name": "ipython",
    "version": 3
   },
   "file_extension": ".py",
   "mimetype": "text/x-python",
   "name": "python",
   "nbconvert_exporter": "python",
   "pygments_lexer": "ipython3",
   "version": "3.8.1"
  },
  "papermill": {
   "duration": 140.369036,
   "end_time": "2020-04-29T07:48:33.593438",
   "environment_variables": {},
   "exception": null,
   "input_path": "01_Zone_Characterisation.ipynb",
   "output_path": "01_Zone_Characterisation.ipynb",
   "parameters": {
    "CASE": "CO_P",
    "CONTROL_TYPE": "AUTO",
    "CO_KP": 1,
    "CO_TI": 360,
    "CO_TWD": 300,
    "DEMAND_FILE": "extnewtripset.csv",
    "DISTANCE_CONTROL": 50,
    "EXPERIMENT": "CTR",
    "FILE": "symuvia_network_25zones.xml",
    "PATH_SYMUVIA": "/Users/andresladino/Documents/01-Code/04-Platforms/dev-symuvia/build/lib/libSymuVia.dylib",
    "REF_SPEED": "ref_speeds_25zones.csv",
    "SCENARIO": "mesh30x30/",
    "SELFISH": 0.5,
    "TRIGGER_TIME": 9000,
    "ZONES": "25zones/"
   },
   "start_time": "2020-04-29T07:46:13.224402",
   "version": "2.0.0"
  }
 },
 "nbformat": 4,
 "nbformat_minor": 4
}
